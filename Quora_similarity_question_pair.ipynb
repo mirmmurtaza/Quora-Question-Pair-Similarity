{
 "cells": [
  {
   "cell_type": "markdown",
   "metadata": {
    "id": "ZCEGX_nb9eCg"
   },
   "source": [
    "# Quora Similarity Question pair case study\n",
    "*This case study is about identifying the pair of questions and predict whether they are similar or not. It is a Binary Classification problem.*"
   ]
  },
  {
   "cell_type": "code",
   "execution_count": 1,
   "metadata": {
    "executionInfo": {
     "elapsed": 2229,
     "status": "ok",
     "timestamp": 1624074341143,
     "user": {
      "displayName": "Murtaza Mir",
      "photoUrl": "",
      "userId": "03139476773765529409"
     },
     "user_tz": -330
    },
    "id": "nv8jNj9F-ANQ"
   },
   "outputs": [],
   "source": [
    "import numpy as np\n",
    "import pandas as pd\n",
    "import matplotlib.pyplot as plt\n",
    "import seaborn as sns"
   ]
  },
  {
   "cell_type": "code",
   "execution_count": 2,
   "metadata": {
    "executionInfo": {
     "elapsed": 1172,
     "status": "ok",
     "timestamp": 1624025212986,
     "user": {
      "displayName": "Murtaza Mir",
      "photoUrl": "",
      "userId": "03139476773765529409"
     },
     "user_tz": -330
    },
    "id": "JeMzGJ8J-PD9"
   },
   "outputs": [],
   "source": [
    "data = pd.read_csv('train.csv')"
   ]
  },
  {
   "cell_type": "markdown",
   "metadata": {
    "id": "1P8R7XXu-TQj"
   },
   "source": [
    "*Doing some basic inspection of the data as follows.*"
   ]
  },
  {
   "cell_type": "code",
   "execution_count": 3,
   "metadata": {
    "colab": {
     "base_uri": "https://localhost:8080/",
     "height": 203
    },
    "executionInfo": {
     "elapsed": 7,
     "status": "ok",
     "timestamp": 1624025214779,
     "user": {
      "displayName": "Murtaza Mir",
      "photoUrl": "",
      "userId": "03139476773765529409"
     },
     "user_tz": -330
    },
    "id": "94mhp-DS-R9d",
    "outputId": "d2116809-bd7c-4854-c7e4-951db7380862"
   },
   "outputs": [
    {
     "data": {
      "text/html": [
       "<div>\n",
       "<style scoped>\n",
       "    .dataframe tbody tr th:only-of-type {\n",
       "        vertical-align: middle;\n",
       "    }\n",
       "\n",
       "    .dataframe tbody tr th {\n",
       "        vertical-align: top;\n",
       "    }\n",
       "\n",
       "    .dataframe thead th {\n",
       "        text-align: right;\n",
       "    }\n",
       "</style>\n",
       "<table border=\"1\" class=\"dataframe\">\n",
       "  <thead>\n",
       "    <tr style=\"text-align: right;\">\n",
       "      <th></th>\n",
       "      <th>id</th>\n",
       "      <th>qid1</th>\n",
       "      <th>qid2</th>\n",
       "      <th>question1</th>\n",
       "      <th>question2</th>\n",
       "      <th>is_duplicate</th>\n",
       "    </tr>\n",
       "  </thead>\n",
       "  <tbody>\n",
       "    <tr>\n",
       "      <th>0</th>\n",
       "      <td>0</td>\n",
       "      <td>1</td>\n",
       "      <td>2</td>\n",
       "      <td>What is the step by step guide to invest in sh...</td>\n",
       "      <td>What is the step by step guide to invest in sh...</td>\n",
       "      <td>0</td>\n",
       "    </tr>\n",
       "    <tr>\n",
       "      <th>1</th>\n",
       "      <td>1</td>\n",
       "      <td>3</td>\n",
       "      <td>4</td>\n",
       "      <td>What is the story of Kohinoor (Koh-i-Noor) Dia...</td>\n",
       "      <td>What would happen if the Indian government sto...</td>\n",
       "      <td>0</td>\n",
       "    </tr>\n",
       "    <tr>\n",
       "      <th>2</th>\n",
       "      <td>2</td>\n",
       "      <td>5</td>\n",
       "      <td>6</td>\n",
       "      <td>How can I increase the speed of my internet co...</td>\n",
       "      <td>How can Internet speed be increased by hacking...</td>\n",
       "      <td>0</td>\n",
       "    </tr>\n",
       "    <tr>\n",
       "      <th>3</th>\n",
       "      <td>3</td>\n",
       "      <td>7</td>\n",
       "      <td>8</td>\n",
       "      <td>Why am I mentally very lonely? How can I solve...</td>\n",
       "      <td>Find the remainder when [math]23^{24}[/math] i...</td>\n",
       "      <td>0</td>\n",
       "    </tr>\n",
       "    <tr>\n",
       "      <th>4</th>\n",
       "      <td>4</td>\n",
       "      <td>9</td>\n",
       "      <td>10</td>\n",
       "      <td>Which one dissolve in water quikly sugar, salt...</td>\n",
       "      <td>Which fish would survive in salt water?</td>\n",
       "      <td>0</td>\n",
       "    </tr>\n",
       "  </tbody>\n",
       "</table>\n",
       "</div>"
      ],
      "text/plain": [
       "   id  qid1  qid2                                          question1  \\\n",
       "0   0     1     2  What is the step by step guide to invest in sh...   \n",
       "1   1     3     4  What is the story of Kohinoor (Koh-i-Noor) Dia...   \n",
       "2   2     5     6  How can I increase the speed of my internet co...   \n",
       "3   3     7     8  Why am I mentally very lonely? How can I solve...   \n",
       "4   4     9    10  Which one dissolve in water quikly sugar, salt...   \n",
       "\n",
       "                                           question2  is_duplicate  \n",
       "0  What is the step by step guide to invest in sh...             0  \n",
       "1  What would happen if the Indian government sto...             0  \n",
       "2  How can Internet speed be increased by hacking...             0  \n",
       "3  Find the remainder when [math]23^{24}[/math] i...             0  \n",
       "4            Which fish would survive in salt water?             0  "
      ]
     },
     "execution_count": 3,
     "metadata": {},
     "output_type": "execute_result"
    }
   ],
   "source": [
    "data.head()"
   ]
  },
  {
   "cell_type": "code",
   "execution_count": 4,
   "metadata": {
    "colab": {
     "base_uri": "https://localhost:8080/"
    },
    "executionInfo": {
     "elapsed": 514,
     "status": "ok",
     "timestamp": 1624025217143,
     "user": {
      "displayName": "Murtaza Mir",
      "photoUrl": "",
      "userId": "03139476773765529409"
     },
     "user_tz": -330
    },
    "id": "dQSOJLBW_z4d",
    "outputId": "482edcdd-e1cb-4a22-936a-0c735b64eb19"
   },
   "outputs": [
    {
     "data": {
      "text/plain": [
       "(404290, 6)"
      ]
     },
     "execution_count": 4,
     "metadata": {},
     "output_type": "execute_result"
    }
   ],
   "source": [
    "data.shape"
   ]
  },
  {
   "cell_type": "markdown",
   "metadata": {
    "id": "9xLvcTvb-iRN"
   },
   "source": [
    "- There are 4 relevant input columns namely `qid1`, `qid2`, `question1` and `question2`.\n",
    "- The output column is `is_duplicate`."
   ]
  },
  {
   "cell_type": "code",
   "execution_count": 5,
   "metadata": {
    "colab": {
     "base_uri": "https://localhost:8080/",
     "height": 334
    },
    "executionInfo": {
     "elapsed": 992,
     "status": "ok",
     "timestamp": 1624025219570,
     "user": {
      "displayName": "Murtaza Mir",
      "photoUrl": "",
      "userId": "03139476773765529409"
     },
     "user_tz": -330
    },
    "id": "9xA3Yj_P-YyN",
    "outputId": "9bbc6f35-4b87-45a4-836f-ff9f185b99a3"
   },
   "outputs": [
    {
     "name": "stderr",
     "output_type": "stream",
     "text": [
      "C:\\Users\\mirmm\\anaconda3_\\lib\\site-packages\\seaborn\\_decorators.py:36: FutureWarning: Pass the following variable as a keyword arg: x. From version 0.12, the only valid positional argument will be `data`, and passing other arguments without an explicit keyword will result in an error or misinterpretation.\n",
      "  warnings.warn(\n"
     ]
    },
    {
     "data": {
      "image/png": "[encoded data removed]",
      "text/plain": [
       "<Figure size 432x288 with 1 Axes>"
      ]
     },
     "metadata": {
      "needs_background": "light"
     },
     "output_type": "display_data"
    }
   ],
   "source": [
    "sns.countplot(data['is_duplicate'])\n",
    "plt.show()"
   ]
  },
  {
   "cell_type": "code",
   "execution_count": 6,
   "metadata": {
    "colab": {
     "base_uri": "https://localhost:8080/"
    },
    "executionInfo": {
     "elapsed": 3,
     "status": "ok",
     "timestamp": 1624025220039,
     "user": {
      "displayName": "Murtaza Mir",
      "photoUrl": "",
      "userId": "03139476773765529409"
     },
     "user_tz": -330
    },
    "id": "-wH2Asz6-46G",
    "outputId": "72362433-fc6a-4636-ab1d-bec68d832930"
   },
   "outputs": [
    {
     "data": {
      "text/plain": [
       "0    63.080215\n",
       "1    36.919785\n",
       "Name: is_duplicate, dtype: float64"
      ]
     },
     "execution_count": 6,
     "metadata": {},
     "output_type": "execute_result"
    }
   ],
   "source": [
    "100*data['is_duplicate'].value_counts()/data.shape[0]"
   ]
  },
  {
   "cell_type": "markdown",
   "metadata": {
    "id": "o-CDG1oi_D6T"
   },
   "source": [
    "- It can be observed that the category `0` appears more than the category `1`.\n",
    "- However, it is not a serious imbalance."
   ]
  },
  {
   "cell_type": "markdown",
   "metadata": {
    "id": "UIV9ExyVDC6E"
   },
   "source": [
    "*Let's check if there ate duplicate pairs of questions or not.*"
   ]
  },
  {
   "cell_type": "code",
   "execution_count": 7,
   "metadata": {
    "colab": {
     "base_uri": "https://localhost:8080/"
    },
    "executionInfo": {
     "elapsed": 1297,
     "status": "ok",
     "timestamp": 1624025224491,
     "user": {
      "displayName": "Murtaza Mir",
      "photoUrl": "",
      "userId": "03139476773765529409"
     },
     "user_tz": -330
    },
    "id": "h5D6Zs3u_6sq",
    "outputId": "2afbf4e3-2502-4fea-8ef5-74e1e16d5e20"
   },
   "outputs": [
    {
     "name": "stdout",
     "output_type": "stream",
     "text": [
      "The total number of duplicate question pairs are 0\n"
     ]
    }
   ],
   "source": [
    "pairs = data['qid1'].astype(str) + data['qid2'].astype(str)\n",
    "duplicates = data.shape[0]-len(np.unique(pairs))\n",
    "print('The total number of duplicate question pairs are {}'.format(duplicates))"
   ]
  },
  {
   "cell_type": "code",
   "execution_count": 8,
   "metadata": {
    "colab": {
     "base_uri": "https://localhost:8080/",
     "height": 721
    },
    "executionInfo": {
     "elapsed": 1850,
     "status": "ok",
     "timestamp": 1624025227828,
     "user": {
      "displayName": "Murtaza Mir",
      "photoUrl": "",
      "userId": "03139476773765529409"
     },
     "user_tz": -330
    },
    "id": "UdXLBCJXCgX3",
    "outputId": "cb8c719a-a685-417e-c9c7-8fabf7f4067e"
   },
   "outputs": [
    {
     "data": {
      "image/png": "[encoded data removed]",
      "text/plain": [
       "<Figure size 360x360 with 1 Axes>"
      ]
     },
     "metadata": {
      "needs_background": "light"
     },
     "output_type": "display_data"
    },
    {
     "data": {
      "image/png": "[encoded data removed]",
      "text/plain": [
       "<Figure size 360x360 with 1 Axes>"
      ]
     },
     "metadata": {
      "needs_background": "light"
     },
     "output_type": "display_data"
    }
   ],
   "source": [
    "sns.displot(data['qid1'])\n",
    "sns.displot(data['qid2'])\n",
    "plt.show()"
   ]
  },
  {
   "cell_type": "markdown",
   "metadata": {
    "id": "oRCXnjwTE_ZS"
   },
   "source": [
    "*Checking for null values as follows*"
   ]
  },
  {
   "cell_type": "code",
   "execution_count": 9,
   "metadata": {
    "colab": {
     "base_uri": "https://localhost:8080/"
    },
    "executionInfo": {
     "elapsed": 477,
     "status": "ok",
     "timestamp": 1624025231790,
     "user": {
      "displayName": "Murtaza Mir",
      "photoUrl": "",
      "userId": "03139476773765529409"
     },
     "user_tz": -330
    },
    "id": "MV450uV1DmbA",
    "outputId": "285c6832-5153-4442-bdda-0dd012fcadfc"
   },
   "outputs": [
    {
     "data": {
      "text/plain": [
       "id              0\n",
       "qid1            0\n",
       "qid2            0\n",
       "question1       1\n",
       "question2       2\n",
       "is_duplicate    0\n",
       "dtype: int64"
      ]
     },
     "execution_count": 9,
     "metadata": {},
     "output_type": "execute_result"
    }
   ],
   "source": [
    "data.isnull().sum()"
   ]
  },
  {
   "cell_type": "code",
   "execution_count": 10,
   "metadata": {
    "colab": {
     "base_uri": "https://localhost:8080/",
     "height": 142
    },
    "executionInfo": {
     "elapsed": 5,
     "status": "ok",
     "timestamp": 1624025232252,
     "user": {
      "displayName": "Murtaza Mir",
      "photoUrl": "",
      "userId": "03139476773765529409"
     },
     "user_tz": -330
    },
    "id": "c3uRz0WxE5dM",
    "outputId": "4be3b707-47c2-4d28-fc3d-38fecad72a19"
   },
   "outputs": [
    {
     "data": {
      "text/html": [
       "<div>\n",
       "<style scoped>\n",
       "    .dataframe tbody tr th:only-of-type {\n",
       "        vertical-align: middle;\n",
       "    }\n",
       "\n",
       "    .dataframe tbody tr th {\n",
       "        vertical-align: top;\n",
       "    }\n",
       "\n",
       "    .dataframe thead th {\n",
       "        text-align: right;\n",
       "    }\n",
       "</style>\n",
       "<table border=\"1\" class=\"dataframe\">\n",
       "  <thead>\n",
       "    <tr style=\"text-align: right;\">\n",
       "      <th></th>\n",
       "      <th>id</th>\n",
       "      <th>qid1</th>\n",
       "      <th>qid2</th>\n",
       "      <th>question1</th>\n",
       "      <th>question2</th>\n",
       "      <th>is_duplicate</th>\n",
       "    </tr>\n",
       "  </thead>\n",
       "  <tbody>\n",
       "    <tr>\n",
       "      <th>105780</th>\n",
       "      <td>105780</td>\n",
       "      <td>174363</td>\n",
       "      <td>174364</td>\n",
       "      <td>How can I develop android app?</td>\n",
       "      <td>NaN</td>\n",
       "      <td>0</td>\n",
       "    </tr>\n",
       "    <tr>\n",
       "      <th>201841</th>\n",
       "      <td>201841</td>\n",
       "      <td>303951</td>\n",
       "      <td>174364</td>\n",
       "      <td>How can I create an Android app?</td>\n",
       "      <td>NaN</td>\n",
       "      <td>0</td>\n",
       "    </tr>\n",
       "    <tr>\n",
       "      <th>363362</th>\n",
       "      <td>363362</td>\n",
       "      <td>493340</td>\n",
       "      <td>493341</td>\n",
       "      <td>NaN</td>\n",
       "      <td>My Chinese name is Haichao Yu. What English na...</td>\n",
       "      <td>0</td>\n",
       "    </tr>\n",
       "  </tbody>\n",
       "</table>\n",
       "</div>"
      ],
      "text/plain": [
       "            id    qid1    qid2                         question1  \\\n",
       "105780  105780  174363  174364    How can I develop android app?   \n",
       "201841  201841  303951  174364  How can I create an Android app?   \n",
       "363362  363362  493340  493341                               NaN   \n",
       "\n",
       "                                                question2  is_duplicate  \n",
       "105780                                                NaN             0  \n",
       "201841                                                NaN             0  \n",
       "363362  My Chinese name is Haichao Yu. What English na...             0  "
      ]
     },
     "execution_count": 10,
     "metadata": {},
     "output_type": "execute_result"
    }
   ],
   "source": [
    "data[data.isnull().any(1)]"
   ]
  },
  {
   "cell_type": "markdown",
   "metadata": {
    "id": "cjpugT_dHAVp"
   },
   "source": [
    "- There are 3 null values in total.\n",
    "- One in `question1` and two in `question2`."
   ]
  },
  {
   "cell_type": "code",
   "execution_count": 11,
   "metadata": {
    "executionInfo": {
     "elapsed": 471,
     "status": "ok",
     "timestamp": 1624025238282,
     "user": {
      "displayName": "Murtaza Mir",
      "photoUrl": "",
      "userId": "03139476773765529409"
     },
     "user_tz": -330
    },
    "id": "rnOW6jOQFN8F"
   },
   "outputs": [],
   "source": [
    "data = data.fillna(' ')"
   ]
  },
  {
   "cell_type": "code",
   "execution_count": 12,
   "metadata": {
    "colab": {
     "base_uri": "https://localhost:8080/"
    },
    "executionInfo": {
     "elapsed": 3,
     "status": "ok",
     "timestamp": 1624025238907,
     "user": {
      "displayName": "Murtaza Mir",
      "photoUrl": "",
      "userId": "03139476773765529409"
     },
     "user_tz": -330
    },
    "id": "sYiTSpkzG6rh",
    "outputId": "7817d938-7277-46e2-996e-b98fd9395250"
   },
   "outputs": [
    {
     "data": {
      "text/plain": [
       "id              0\n",
       "qid1            0\n",
       "qid2            0\n",
       "question1       0\n",
       "question2       0\n",
       "is_duplicate    0\n",
       "dtype: int64"
      ]
     },
     "execution_count": 12,
     "metadata": {},
     "output_type": "execute_result"
    }
   ],
   "source": [
    "data.isnull().sum()"
   ]
  },
  {
   "cell_type": "code",
   "execution_count": 13,
   "metadata": {
    "colab": {
     "base_uri": "https://localhost:8080/",
     "height": 203
    },
    "executionInfo": {
     "elapsed": 4,
     "status": "ok",
     "timestamp": 1624025240723,
     "user": {
      "displayName": "Murtaza Mir",
      "photoUrl": "",
      "userId": "03139476773765529409"
     },
     "user_tz": -330
    },
    "id": "uIHl_y99Nq8W",
    "outputId": "fe575d38-4c4a-4cba-d9e5-c16bf00b2a6d"
   },
   "outputs": [
    {
     "data": {
      "text/html": [
       "<div>\n",
       "<style scoped>\n",
       "    .dataframe tbody tr th:only-of-type {\n",
       "        vertical-align: middle;\n",
       "    }\n",
       "\n",
       "    .dataframe tbody tr th {\n",
       "        vertical-align: top;\n",
       "    }\n",
       "\n",
       "    .dataframe thead th {\n",
       "        text-align: right;\n",
       "    }\n",
       "</style>\n",
       "<table border=\"1\" class=\"dataframe\">\n",
       "  <thead>\n",
       "    <tr style=\"text-align: right;\">\n",
       "      <th></th>\n",
       "      <th>id</th>\n",
       "      <th>qid1</th>\n",
       "      <th>qid2</th>\n",
       "      <th>question1</th>\n",
       "      <th>question2</th>\n",
       "      <th>is_duplicate</th>\n",
       "    </tr>\n",
       "  </thead>\n",
       "  <tbody>\n",
       "    <tr>\n",
       "      <th>0</th>\n",
       "      <td>0</td>\n",
       "      <td>1</td>\n",
       "      <td>2</td>\n",
       "      <td>What is the step by step guide to invest in sh...</td>\n",
       "      <td>What is the step by step guide to invest in sh...</td>\n",
       "      <td>0</td>\n",
       "    </tr>\n",
       "    <tr>\n",
       "      <th>1</th>\n",
       "      <td>1</td>\n",
       "      <td>3</td>\n",
       "      <td>4</td>\n",
       "      <td>What is the story of Kohinoor (Koh-i-Noor) Dia...</td>\n",
       "      <td>What would happen if the Indian government sto...</td>\n",
       "      <td>0</td>\n",
       "    </tr>\n",
       "    <tr>\n",
       "      <th>2</th>\n",
       "      <td>2</td>\n",
       "      <td>5</td>\n",
       "      <td>6</td>\n",
       "      <td>How can I increase the speed of my internet co...</td>\n",
       "      <td>How can Internet speed be increased by hacking...</td>\n",
       "      <td>0</td>\n",
       "    </tr>\n",
       "    <tr>\n",
       "      <th>3</th>\n",
       "      <td>3</td>\n",
       "      <td>7</td>\n",
       "      <td>8</td>\n",
       "      <td>Why am I mentally very lonely? How can I solve...</td>\n",
       "      <td>Find the remainder when [math]23^{24}[/math] i...</td>\n",
       "      <td>0</td>\n",
       "    </tr>\n",
       "    <tr>\n",
       "      <th>4</th>\n",
       "      <td>4</td>\n",
       "      <td>9</td>\n",
       "      <td>10</td>\n",
       "      <td>Which one dissolve in water quikly sugar, salt...</td>\n",
       "      <td>Which fish would survive in salt water?</td>\n",
       "      <td>0</td>\n",
       "    </tr>\n",
       "  </tbody>\n",
       "</table>\n",
       "</div>"
      ],
      "text/plain": [
       "   id  qid1  qid2                                          question1  \\\n",
       "0   0     1     2  What is the step by step guide to invest in sh...   \n",
       "1   1     3     4  What is the story of Kohinoor (Koh-i-Noor) Dia...   \n",
       "2   2     5     6  How can I increase the speed of my internet co...   \n",
       "3   3     7     8  Why am I mentally very lonely? How can I solve...   \n",
       "4   4     9    10  Which one dissolve in water quikly sugar, salt...   \n",
       "\n",
       "                                           question2  is_duplicate  \n",
       "0  What is the step by step guide to invest in sh...             0  \n",
       "1  What would happen if the Indian government sto...             0  \n",
       "2  How can Internet speed be increased by hacking...             0  \n",
       "3  Find the remainder when [math]23^{24}[/math] i...             0  \n",
       "4            Which fish would survive in salt water?             0  "
      ]
     },
     "execution_count": 13,
     "metadata": {},
     "output_type": "execute_result"
    }
   ],
   "source": [
    "data.head()"
   ]
  },
  {
   "cell_type": "markdown",
   "metadata": {
    "id": "yCpaO3IcPLYJ"
   },
   "source": [
    "*Splitting the data into train and test sets*"
   ]
  },
  {
   "cell_type": "code",
   "execution_count": 14,
   "metadata": {
    "executionInfo": {
     "elapsed": 743,
     "status": "ok",
     "timestamp": 1624025243220,
     "user": {
      "displayName": "Murtaza Mir",
      "photoUrl": "",
      "userId": "03139476773765529409"
     },
     "user_tz": -330
    },
    "id": "irDtW4shPObj"
   },
   "outputs": [],
   "source": [
    "from sklearn.model_selection import train_test_split\n",
    "X_train, X_test, y_train, y_test = train_test_split(data.iloc[:, :-1], data['is_duplicate'], test_size = 0.2, random_state = 0)"
   ]
  },
  {
   "cell_type": "code",
   "execution_count": 15,
   "metadata": {
    "executionInfo": {
     "elapsed": 2239,
     "status": "ok",
     "timestamp": 1624025245969,
     "user": {
      "displayName": "Murtaza Mir",
      "photoUrl": "",
      "userId": "03139476773765529409"
     },
     "user_tz": -330
    },
    "id": "hcv1AWzZN07s"
   },
   "outputs": [],
   "source": [
    "import keras\n",
    "import tensorflow as tf\n",
    "from tensorflow.keras.layers import Dense, Input, LSTM, concatenate, Embedding, Flatten\n",
    "from keras.models import Model\n",
    "from keras.preprocessing.text import Tokenizer\n",
    "from keras.preprocessing.sequence import pad_sequences"
   ]
  },
  {
   "cell_type": "code",
   "execution_count": 16,
   "metadata": {
    "executionInfo": {
     "elapsed": 11503,
     "status": "ok",
     "timestamp": 1624025261237,
     "user": {
      "displayName": "Murtaza Mir",
      "photoUrl": "",
      "userId": "03139476773765529409"
     },
     "user_tz": -330
    },
    "id": "TFSUKeUsOBnn"
   },
   "outputs": [],
   "source": [
    "tokenizer_q1 = Tokenizer()\n",
    "tokenizer_q2 = Tokenizer()\n",
    "\n",
    "tokenizer_q1.fit_on_texts(X_train['question1'])\n",
    "tokenizer_q2.fit_on_texts(X_train['question2'])"
   ]
  },
  {
   "cell_type": "code",
   "execution_count": 17,
   "metadata": {
    "executionInfo": {
     "elapsed": 9066,
     "status": "ok",
     "timestamp": 1624025270293,
     "user": {
      "displayName": "Murtaza Mir",
      "photoUrl": "",
      "userId": "03139476773765529409"
     },
     "user_tz": -330
    },
    "id": "OwUs0z2GPFRP"
   },
   "outputs": [],
   "source": [
    "question_1_tk = tokenizer_q1.texts_to_sequences(X_train['question1'])\n",
    "question_2_tk = tokenizer_q2.texts_to_sequences(X_train['question2'])"
   ]
  },
  {
   "cell_type": "code",
   "execution_count": 18,
   "metadata": {
    "executionInfo": {
     "elapsed": 2208,
     "status": "ok",
     "timestamp": 1624025272490,
     "user": {
      "displayName": "Murtaza Mir",
      "photoUrl": "",
      "userId": "03139476773765529409"
     },
     "user_tz": -330
    },
    "id": "eD1Js8m4Sq6I"
   },
   "outputs": [],
   "source": [
    "question_1_tk_test = tokenizer_q1.texts_to_sequences(X_test['question1'])\n",
    "question_2_tk_test = tokenizer_q2.texts_to_sequences(X_test['question2'])"
   ]
  },
  {
   "cell_type": "markdown",
   "metadata": {
    "id": "kqHgvlmIQ_Td"
   },
   "source": [
    "*Calculating the length of each question in both the question columns.*"
   ]
  },
  {
   "cell_type": "code",
   "execution_count": 19,
   "metadata": {
    "executionInfo": {
     "elapsed": 12,
     "status": "ok",
     "timestamp": 1624025272492,
     "user": {
      "displayName": "Murtaza Mir",
      "photoUrl": "",
      "userId": "03139476773765529409"
     },
     "user_tz": -330
    },
    "id": "CYlwQUUiP3Xg"
   },
   "outputs": [],
   "source": [
    "len_q1 = []\n",
    "for i in question_1_tk:\n",
    "  len_q1.append(len(i))\n",
    "len_q2 = []\n",
    "for i in question_2_tk:\n",
    "  len_q2.append(len(i))"
   ]
  },
  {
   "cell_type": "code",
   "execution_count": 20,
   "metadata": {
    "colab": {
     "base_uri": "https://localhost:8080/",
     "height": 511
    },
    "executionInfo": {
     "elapsed": 12,
     "status": "ok",
     "timestamp": 1624025272493,
     "user": {
      "displayName": "Murtaza Mir",
      "photoUrl": "",
      "userId": "03139476773765529409"
     },
     "user_tz": -330
    },
    "id": "674AbwgBQ3hY",
    "outputId": "b60e5420-a0a3-40ba-9877-0333b671e4c1"
   },
   "outputs": [
    {
     "data": {
      "text/html": [
       "<div>\n",
       "<style scoped>\n",
       "    .dataframe tbody tr th:only-of-type {\n",
       "        vertical-align: middle;\n",
       "    }\n",
       "\n",
       "    .dataframe tbody tr th {\n",
       "        vertical-align: top;\n",
       "    }\n",
       "\n",
       "    .dataframe thead th {\n",
       "        text-align: right;\n",
       "    }\n",
       "</style>\n",
       "<table border=\"1\" class=\"dataframe\">\n",
       "  <thead>\n",
       "    <tr style=\"text-align: right;\">\n",
       "      <th></th>\n",
       "      <th>count</th>\n",
       "      <th>mean</th>\n",
       "      <th>std</th>\n",
       "      <th>min</th>\n",
       "      <th>0%</th>\n",
       "      <th>25%</th>\n",
       "      <th>50%</th>\n",
       "      <th>77%</th>\n",
       "      <th>90%</th>\n",
       "      <th>95%</th>\n",
       "      <th>96%</th>\n",
       "      <th>97%</th>\n",
       "      <th>98%</th>\n",
       "      <th>99%</th>\n",
       "      <th>max</th>\n",
       "    </tr>\n",
       "  </thead>\n",
       "  <tbody>\n",
       "    <tr>\n",
       "      <th>0</th>\n",
       "      <td>323432.0</td>\n",
       "      <td>11.028751</td>\n",
       "      <td>5.498653</td>\n",
       "      <td>0.0</td>\n",
       "      <td>0.0</td>\n",
       "      <td>7.0</td>\n",
       "      <td>10.0</td>\n",
       "      <td>14.0</td>\n",
       "      <td>18.0</td>\n",
       "      <td>22.0</td>\n",
       "      <td>23.0</td>\n",
       "      <td>25.0</td>\n",
       "      <td>27.0</td>\n",
       "      <td>30.0</td>\n",
       "      <td>127.0</td>\n",
       "    </tr>\n",
       "  </tbody>\n",
       "</table>\n",
       "</div>"
      ],
      "text/plain": [
       "      count       mean       std  min   0%  25%   50%   77%   90%   95%   96%  \\\n",
       "0  323432.0  11.028751  5.498653  0.0  0.0  7.0  10.0  14.0  18.0  22.0  23.0   \n",
       "\n",
       "    97%   98%   99%    max  \n",
       "0  25.0  27.0  30.0  127.0  "
      ]
     },
     "execution_count": 20,
     "metadata": {},
     "output_type": "execute_result"
    }
   ],
   "source": [
    "pd.DataFrame(len_q1).describe(percentiles = [0, 0.25, 0.5, 0.77, 0.9, 0.95, 0.96, 0.97, 0.98, 0.99]).T"
   ]
  },
  {
   "cell_type": "code",
   "execution_count": 21,
   "metadata": {
    "colab": {
     "base_uri": "https://localhost:8080/",
     "height": 511
    },
    "executionInfo": {
     "elapsed": 11,
     "status": "ok",
     "timestamp": 1624025272494,
     "user": {
      "displayName": "Murtaza Mir",
      "photoUrl": "",
      "userId": "03139476773765529409"
     },
     "user_tz": -330
    },
    "id": "ioKfxU_GRZbG",
    "outputId": "87a68eff-6a1d-4eb6-f221-c08e0abb77f2"
   },
   "outputs": [
    {
     "data": {
      "text/html": [
       "<div>\n",
       "<style scoped>\n",
       "    .dataframe tbody tr th:only-of-type {\n",
       "        vertical-align: middle;\n",
       "    }\n",
       "\n",
       "    .dataframe tbody tr th {\n",
       "        vertical-align: top;\n",
       "    }\n",
       "\n",
       "    .dataframe thead th {\n",
       "        text-align: right;\n",
       "    }\n",
       "</style>\n",
       "<table border=\"1\" class=\"dataframe\">\n",
       "  <thead>\n",
       "    <tr style=\"text-align: right;\">\n",
       "      <th></th>\n",
       "      <th>count</th>\n",
       "      <th>mean</th>\n",
       "      <th>std</th>\n",
       "      <th>min</th>\n",
       "      <th>0%</th>\n",
       "      <th>25%</th>\n",
       "      <th>50%</th>\n",
       "      <th>77%</th>\n",
       "      <th>90%</th>\n",
       "      <th>95%</th>\n",
       "      <th>96%</th>\n",
       "      <th>97%</th>\n",
       "      <th>98%</th>\n",
       "      <th>99%</th>\n",
       "      <th>max</th>\n",
       "    </tr>\n",
       "  </thead>\n",
       "  <tbody>\n",
       "    <tr>\n",
       "      <th>0</th>\n",
       "      <td>323432.0</td>\n",
       "      <td>11.27991</td>\n",
       "      <td>6.382974</td>\n",
       "      <td>0.0</td>\n",
       "      <td>0.0</td>\n",
       "      <td>7.0</td>\n",
       "      <td>10.0</td>\n",
       "      <td>14.0</td>\n",
       "      <td>19.0</td>\n",
       "      <td>24.0</td>\n",
       "      <td>25.0</td>\n",
       "      <td>27.0</td>\n",
       "      <td>28.0</td>\n",
       "      <td>33.0</td>\n",
       "      <td>237.0</td>\n",
       "    </tr>\n",
       "  </tbody>\n",
       "</table>\n",
       "</div>"
      ],
      "text/plain": [
       "      count      mean       std  min   0%  25%   50%   77%   90%   95%   96%  \\\n",
       "0  323432.0  11.27991  6.382974  0.0  0.0  7.0  10.0  14.0  19.0  24.0  25.0   \n",
       "\n",
       "    97%   98%   99%    max  \n",
       "0  27.0  28.0  33.0  237.0  "
      ]
     },
     "execution_count": 21,
     "metadata": {},
     "output_type": "execute_result"
    }
   ],
   "source": [
    "pd.DataFrame(len_q2).describe(percentiles = [0, 0.25, 0.5, 0.77, 0.9, 0.95, 0.96, 0.97, 0.98, 0.99]).T"
   ]
  },
  {
   "cell_type": "markdown",
   "metadata": {
    "id": "tmS-4n5LRtxE"
   },
   "source": [
    "- For `question1`, 99% of the sentences have 30 words or less.\n",
    "- For `question2`, 99% of the sentences have 33 words or less."
   ]
  },
  {
   "cell_type": "markdown",
   "metadata": {
    "id": "eOk_Kf-XTAty"
   },
   "source": [
    "*Let's perform the padding as follows*"
   ]
  },
  {
   "cell_type": "code",
   "execution_count": 22,
   "metadata": {
    "executionInfo": {
     "elapsed": 4274,
     "status": "ok",
     "timestamp": 1624025282658,
     "user": {
      "displayName": "Murtaza Mir",
      "photoUrl": "",
      "userId": "03139476773765529409"
     },
     "user_tz": -330
    },
    "id": "-Azs8MZ1RsAx"
   },
   "outputs": [],
   "source": [
    "pad_q1_train = pad_sequences(question_1_tk, maxlen = 33, padding = 'post')\n",
    "pad_q1_test = pad_sequences(question_1_tk_test, maxlen = 33, padding = 'post')\n",
    "\n",
    "pad_q2_train = pad_sequences(question_2_tk, maxlen = 33, padding = 'post')\n",
    "pad_q2_test = pad_sequences(question_2_tk_test, maxlen = 33, padding = 'post')"
   ]
  },
  {
   "cell_type": "markdown",
   "metadata": {
    "id": "aWTu4EykUipS"
   },
   "source": [
    "## Model Building\n",
    "*Let's try different models for maing the predictions.*"
   ]
  },
  {
   "cell_type": "markdown",
   "metadata": {
    "id": "R_pP5vCTk6BR"
   },
   "source": [
    "Model 1"
   ]
  },
  {
   "cell_type": "code",
   "execution_count": 34,
   "metadata": {
    "executionInfo": {
     "elapsed": 1193,
     "status": "ok",
     "timestamp": 1624025286327,
     "user": {
      "displayName": "Murtaza Mir",
      "photoUrl": "",
      "userId": "03139476773765529409"
     },
     "user_tz": -330
    },
    "id": "771J-l9-Ta2b"
   },
   "outputs": [],
   "source": [
    "input_q1 = Input(shape = (33,))\n",
    "#embedding_1 = Embedding(input_dim = len(tokenizer_q1.word_index.keys()), output_dim = 50)(input_q1)\n",
    "lstm_layer_1 = LSTM(units = 32, kernel_initializer = 'glorot_normal')(tf.expand_dims(input_q1, axis=0))\n",
    "#f1 = Flatten()(lstm_layer_1)\n",
    "\n",
    "input_q2 = Input(shape = (33,))\n",
    "#embedding_2 = Embedding(input_dim = len(tokenizer_q2.word_index.keys()), output_dim = 50)(input_q2)\n",
    "last_layer_2 = LSTM(units = 32, kernel_initializer = 'glorot_normal')(tf.expand_dims(input_q2, axis=0))\n",
    "#f2 = Flatten()(last_layer_2)\n",
    "\n",
    "concatenate_layer = concatenate([lstm_layer_1, last_layer_2])\n",
    "flatten = Flatten()(concatenate_layer)\n",
    "dense_layer = Dense(64, activation = 'relu')(concatenate_layer)\n",
    "output_layer = Dense(1, activation = 'sigmoid')(dense_layer)\n",
    "\n",
    "model_1 = Model(inputs = [input_q1, input_q2], outputs = output_layer)"
   ]
  },
  {
   "cell_type": "code",
   "execution_count": 35,
   "metadata": {
    "colab": {
     "base_uri": "https://localhost:8080/"
    },
    "executionInfo": {
     "elapsed": 603,
     "status": "ok",
     "timestamp": 1624025300139,
     "user": {
      "displayName": "Murtaza Mir",
      "photoUrl": "",
      "userId": "03139476773765529409"
     },
     "user_tz": -330
    },
    "id": "HT7AaeHcTd-4",
    "outputId": "bcc6e265-48b8-4498-b851-57c6ae4e3a91"
   },
   "outputs": [
    {
     "name": "stdout",
     "output_type": "stream",
     "text": [
      "Model: \"model_3\"\n",
      "__________________________________________________________________________________________________\n",
      " Layer (type)                   Output Shape         Param #     Connected to                     \n",
      "==================================================================================================\n",
      " input_8 (InputLayer)           [(None, 33)]         0           []                               \n",
      "                                                                                                  \n",
      " input_9 (InputLayer)           [(None, 33)]         0           []                               \n",
      "                                                                                                  \n",
      " tf.expand_dims (TFOpLambda)    (1, None, 33)        0           ['input_8[0][0]']                \n",
      "                                                                                                  \n",
      " tf.expand_dims_1 (TFOpLambda)  (1, None, 33)        0           ['input_9[0][0]']                \n",
      "                                                                                                  \n",
      " lstm_7 (LSTM)                  (1, 32)              8448        ['tf.expand_dims[0][0]']         \n",
      "                                                                                                  \n",
      " lstm_8 (LSTM)                  (1, 32)              8448        ['tf.expand_dims_1[0][0]']       \n",
      "                                                                                                  \n",
      " concatenate_3 (Concatenate)    (1, 64)              0           ['lstm_7[0][0]',                 \n",
      "                                                                  'lstm_8[0][0]']                 \n",
      "                                                                                                  \n",
      " dense_6 (Dense)                (1, 64)              4160        ['concatenate_3[0][0]']          \n",
      "                                                                                                  \n",
      " dense_7 (Dense)                (1, 1)               65          ['dense_6[0][0]']                \n",
      "                                                                                                  \n",
      "==================================================================================================\n",
      "Total params: 21,121\n",
      "Trainable params: 21,121\n",
      "Non-trainable params: 0\n",
      "__________________________________________________________________________________________________\n"
     ]
    }
   ],
   "source": [
    "model_1.summary()"
   ]
  },
  {
   "cell_type": "code",
   "execution_count": 37,
   "metadata": {
    "colab": {
     "base_uri": "https://localhost:8080/"
    },
    "executionInfo": {
     "elapsed": 383373,
     "status": "ok",
     "timestamp": 1623992435172,
     "user": {
      "displayName": "Murtaza Mir",
      "photoUrl": "",
      "userId": "03139476773765529409"
     },
     "user_tz": -330
    },
    "id": "IVJHOGYlVumw",
    "outputId": "d4534769-ab0b-4e8d-f5ae-4081652539cb"
   },
   "outputs": [
    {
     "name": "stdout",
     "output_type": "stream",
     "text": [
      "Epoch 1/10\n",
      "10108/10108 [==============================] - 66s 6ms/step - loss: 0.6589 - accuracy: 0.6309 - val_loss: 0.6590 - val_accuracy: 0.6306\n",
      "Epoch 2/10\n",
      "10108/10108 [==============================] - 69s 7ms/step - loss: 0.6587 - accuracy: 0.6309 - val_loss: 0.6588 - val_accuracy: 0.6306\n",
      "Epoch 3/10\n",
      "10108/10108 [==============================] - 61s 6ms/step - loss: 0.6586 - accuracy: 0.6309 - val_loss: 0.6587 - val_accuracy: 0.6306\n",
      "Epoch 4/10\n",
      "10108/10108 [==============================] - 61s 6ms/step - loss: 0.6586 - accuracy: 0.6309 - val_loss: 0.6586 - val_accuracy: 0.6306\n",
      "Epoch 5/10\n",
      "10108/10108 [==============================] - 65s 6ms/step - loss: 0.6586 - accuracy: 0.6309 - val_loss: 0.6587 - val_accuracy: 0.6306\n",
      "Epoch 6/10\n",
      "10108/10108 [==============================] - 64s 6ms/step - loss: 0.6585 - accuracy: 0.6309 - val_loss: 0.6587 - val_accuracy: 0.6306\n",
      "Epoch 7/10\n",
      "10108/10108 [==============================] - 65s 6ms/step - loss: 0.6585 - accuracy: 0.6309 - val_loss: 0.6586 - val_accuracy: 0.6306\n",
      "Epoch 8/10\n",
      "10108/10108 [==============================] - 73s 7ms/step - loss: 0.6585 - accuracy: 0.6309 - val_loss: 0.6587 - val_accuracy: 0.6306\n",
      "Epoch 9/10\n",
      "10108/10108 [==============================] - 66s 6ms/step - loss: 0.6585 - accuracy: 0.6309 - val_loss: 0.6588 - val_accuracy: 0.6306\n",
      "Epoch 10/10\n",
      "10108/10108 [==============================] - 65s 6ms/step - loss: 0.6585 - accuracy: 0.6309 - val_loss: 0.6587 - val_accuracy: 0.6306\n"
     ]
    }
   ],
   "source": [
    "model_1.compile(optimizer = 'adam', loss = 'binary_crossentropy', metrics = 'accuracy')\n",
    "performance = model_1.fit(x = [pad_q1_train, pad_q2_train], y = y_train, batch_size = 32, epochs = 10, validation_data = ([pad_q1_test, pad_q2_test], y_test))"
   ]
  },
  {
   "cell_type": "code",
   "execution_count": 39,
   "metadata": {
    "colab": {
     "base_uri": "https://localhost:8080/",
     "height": 350
    },
    "executionInfo": {
     "elapsed": 646,
     "status": "ok",
     "timestamp": 1623992435799,
     "user": {
      "displayName": "Murtaza Mir",
      "photoUrl": "",
      "userId": "03139476773765529409"
     },
     "user_tz": -330
    },
    "id": "Qyt5PkBkZ13e",
    "outputId": "38771d69-c298-493f-bdb6-6d2eb3155135"
   },
   "outputs": [
    {
     "data": {
      "image/png": "[encoded data removed]",
      "text/plain": [
       "<Figure size 1080x360 with 2 Axes>"
      ]
     },
     "metadata": {
      "needs_background": "light"
     },
     "output_type": "display_data"
    }
   ],
   "source": [
    "plt.figure(figsize = (15, 5))\n",
    "plt.subplot(121)\n",
    "sns.lineplot(x=range(1,11), y=performance.history['val_loss'])\n",
    "sns.lineplot(x=range(1,11), y=performance.history['loss'])\n",
    "plt.xlabel('Epoch')\n",
    "plt.ylabel('Loss')\n",
    "plt.ylim((0,1))\n",
    "plt.title('LOSS VS EPOCHS')\n",
    "plt.legend(['Validation', 'Train'])\n",
    "plt.subplot(122)\n",
    "sns.lineplot(x=range(1,11), y=performance.history['val_accuracy'])\n",
    "sns.lineplot(x=range(1,11), y=performance.history['accuracy'])\n",
    "plt.xlabel('Epoch')\n",
    "plt.ylabel('Accuracy')\n",
    "plt.ylim((0,1))\n",
    "plt.title('ACCURACY VS EPOCHS')\n",
    "plt.legend(['validation', 'Train'])\n",
    "plt.show()"
   ]
  },
  {
   "cell_type": "markdown",
   "metadata": {},
   "source": [
    "- Apparently, no difference."
   ]
  },
  {
   "cell_type": "markdown",
   "metadata": {
    "id": "yrYULINqwD0u"
   },
   "source": [
    "Model 2"
   ]
  },
  {
   "cell_type": "code",
   "execution_count": 41,
   "metadata": {
    "executionInfo": {
     "elapsed": 747,
     "status": "ok",
     "timestamp": 1624025309241,
     "user": {
      "displayName": "Murtaza Mir",
      "photoUrl": "",
      "userId": "03139476773765529409"
     },
     "user_tz": -330
    },
    "id": "wV-IuZ9Fk2bw"
   },
   "outputs": [],
   "source": [
    "input_1 = Input(shape = (33,))\n",
    "input_2 = Input(shape = (33,))\n",
    "concatenate_layer = concatenate([input_1, input_2])\n",
    "embedding = Embedding(input_dim = len(tokenizer_q1.word_index.keys())+len(tokenizer_q2.word_index.keys()), output_dim=50)(concatenate_layer)\n",
    "lstm_1 = LSTM(units = 32)(embedding)\n",
    "lstm_2 = LSTM(units = 64)(tf.expand_dims(lstm_1, axis=1))\n",
    "dense_1 = Dense(units = 32, activation = 'relu')(lstm_2)\n",
    "dense_2 = Dense(units = 1, activation = 'sigmoid')(dense_1)\n",
    "model_2 = Model(inputs = [input_1, input_2], outputs = dense_2)"
   ]
  },
  {
   "cell_type": "code",
   "execution_count": 42,
   "metadata": {
    "colab": {
     "base_uri": "https://localhost:8080/"
    },
    "executionInfo": {
     "elapsed": 4,
     "status": "ok",
     "timestamp": 1624025309241,
     "user": {
      "displayName": "Murtaza Mir",
      "photoUrl": "",
      "userId": "03139476773765529409"
     },
     "user_tz": -330
    },
    "id": "1HNpSiU2xI42",
    "outputId": "122f0097-3f7e-47b1-c81f-f4a50141bfd5"
   },
   "outputs": [
    {
     "name": "stdout",
     "output_type": "stream",
     "text": [
      "Model: \"model_4\"\n",
      "__________________________________________________________________________________________________\n",
      " Layer (type)                   Output Shape         Param #     Connected to                     \n",
      "==================================================================================================\n",
      " input_10 (InputLayer)          [(None, 33)]         0           []                               \n",
      "                                                                                                  \n",
      " input_11 (InputLayer)          [(None, 33)]         0           []                               \n",
      "                                                                                                  \n",
      " concatenate_4 (Concatenate)    (None, 66)           0           ['input_10[0][0]',               \n",
      "                                                                  'input_11[0][0]']               \n",
      "                                                                                                  \n",
      " embedding_8 (Embedding)        (None, 66, 50)       6422550     ['concatenate_4[0][0]']          \n",
      "                                                                                                  \n",
      " lstm_8 (LSTM)                  (None, 32)           10624       ['embedding_8[0][0]']            \n",
      "                                                                                                  \n",
      " tf.expand_dims (TFOpLambda)    (None, 1, 32)        0           ['lstm_8[0][0]']                 \n",
      "                                                                                                  \n",
      " lstm_9 (LSTM)                  (None, 64)           24832       ['tf.expand_dims[0][0]']         \n",
      "                                                                                                  \n",
      " dense_8 (Dense)                (None, 32)           2080        ['lstm_9[0][0]']                 \n",
      "                                                                                                  \n",
      " dense_9 (Dense)                (None, 1)            33          ['dense_8[0][0]']                \n",
      "                                                                                                  \n",
      "==================================================================================================\n",
      "Total params: 6,460,119\n",
      "Trainable params: 6,460,119\n",
      "Non-trainable params: 0\n",
      "__________________________________________________________________________________________________\n"
     ]
    }
   ],
   "source": [
    "model_2.summary()"
   ]
  },
  {
   "cell_type": "code",
   "execution_count": 43,
   "metadata": {
    "colab": {
     "base_uri": "https://localhost:8080/"
    },
    "executionInfo": {
     "elapsed": 9745509,
     "status": "ok",
     "timestamp": 1623991883711,
     "user": {
      "displayName": "Murtaza Mir",
      "photoUrl": "",
      "userId": "03139476773765529409"
     },
     "user_tz": -330
    },
    "id": "4T74crFWxN7a",
    "outputId": "83e3a3f4-56d4-41ba-b8c5-b9c9ff1e3f17"
   },
   "outputs": [
    {
     "name": "stdout",
     "output_type": "stream",
     "text": [
      "Epoch 1/10\n",
      "10108/10108 [==============================] - 42064s 4s/step - loss: 0.5314 - accuracy: 0.7332 - val_loss: 0.4893 - val_accuracy: 0.7634\n",
      "Epoch 2/10\n",
      "10108/10108 [==============================] - 1249s 124ms/step - loss: 0.4544 - accuracy: 0.7844 - val_loss: 0.4728 - val_accuracy: 0.7742\n",
      "Epoch 3/10\n",
      "10108/10108 [==============================] - 1229s 122ms/step - loss: 0.3989 - accuracy: 0.8141 - val_loss: 0.4746 - val_accuracy: 0.7744\n",
      "Epoch 4/10\n",
      "10108/10108 [==============================] - 1302s 129ms/step - loss: 0.3450 - accuracy: 0.8429 - val_loss: 0.4792 - val_accuracy: 0.7776\n",
      "Epoch 5/10\n",
      "10108/10108 [==============================] - 1114s 110ms/step - loss: 0.2976 - accuracy: 0.8671 - val_loss: 0.5349 - val_accuracy: 0.7716\n",
      "Epoch 6/10\n",
      "10108/10108 [==============================] - 1126s 111ms/step - loss: 0.2571 - accuracy: 0.8865 - val_loss: 0.5772 - val_accuracy: 0.7657\n",
      "Epoch 7/10\n",
      "10108/10108 [==============================] - 4250s 421ms/step - loss: 0.2242 - accuracy: 0.9024 - val_loss: 0.5619 - val_accuracy: 0.7768\n",
      "Epoch 8/10\n",
      "10108/10108 [==============================] - 1120s 111ms/step - loss: 0.1964 - accuracy: 0.9157 - val_loss: 0.6396 - val_accuracy: 0.7787\n",
      "Epoch 9/10\n",
      "10108/10108 [==============================] - 2785s 276ms/step - loss: 0.1735 - accuracy: 0.9253 - val_loss: 0.6805 - val_accuracy: 0.7698\n",
      "Epoch 10/10\n",
      "10108/10108 [==============================] - 1135s 112ms/step - loss: 0.1555 - accuracy: 0.9343 - val_loss: 0.6873 - val_accuracy: 0.7601\n"
     ]
    }
   ],
   "source": [
    "model_2.compile(optimizer = 'adam', loss = 'binary_crossentropy', metrics = 'accuracy')\n",
    "performance = model_2.fit(x = [pad_q1_train, pad_q2_train], y = y_train, batch_size = 32, epochs = 10, validation_data = ([pad_q1_test, pad_q2_test], y_test))"
   ]
  },
  {
   "cell_type": "code",
   "execution_count": 47,
   "metadata": {
    "colab": {
     "base_uri": "https://localhost:8080/",
     "height": 350
    },
    "executionInfo": {
     "elapsed": 1022,
     "status": "ok",
     "timestamp": 1623992005922,
     "user": {
      "displayName": "Murtaza Mir",
      "photoUrl": "",
      "userId": "03139476773765529409"
     },
     "user_tz": -330
    },
    "id": "wHB8rCyTT_5_",
    "outputId": "fe9791be-016c-4b52-a09e-a9d83a206665"
   },
   "outputs": [
    {
     "data": {
      "image/png": "[encoded data removed]",
      "text/plain": [
       "<Figure size 1080x360 with 2 Axes>"
      ]
     },
     "metadata": {
      "needs_background": "light"
     },
     "output_type": "display_data"
    }
   ],
   "source": [
    "plt.figure(figsize = (15, 5))\n",
    "plt.subplot(121)\n",
    "sns.lineplot(x=range(1,11), y=performance.history['val_loss'])\n",
    "sns.lineplot(x=range(1,11), y=performance.history['loss'])\n",
    "plt.xlabel('Epoch')\n",
    "plt.ylabel('Loss')\n",
    "plt.ylim((0,1))\n",
    "plt.title('LOSS VS EPOCHS')\n",
    "plt.legend(['Validation', 'Train'])\n",
    "plt.subplot(122)\n",
    "sns.lineplot(x=range(1,11), y=performance.history['val_accuracy'])\n",
    "sns.lineplot(x=range(1,11), y=performance.history['accuracy'])\n",
    "plt.xlabel('Epoch')\n",
    "plt.ylabel('Accuracy')\n",
    "plt.ylim((0,1))\n",
    "plt.title('ACCURACY VS EPOCHS')\n",
    "plt.legend(['Validation', 'Train'])\n",
    "plt.show()"
   ]
  },
  {
   "cell_type": "markdown",
   "metadata": {
    "id": "-SE4e-UKjuvG"
   },
   "source": [
    "- The performance of the second model is much better than the first model."
   ]
  },
  {
   "cell_type": "markdown",
   "metadata": {
    "id": "TeWhRwEueEVc"
   },
   "source": [
    "Model 3 - *Embeddings using Glove vector representation*"
   ]
  },
  {
   "cell_type": "code",
   "execution_count": 32,
   "metadata": {
    "executionInfo": {
     "elapsed": 437,
     "status": "ok",
     "timestamp": 1624026748260,
     "user": {
      "displayName": "Murtaza Mir",
      "photoUrl": "",
      "userId": "03139476773765529409"
     },
     "user_tz": -330
    },
    "id": "DlUYInMcxWWd"
   },
   "outputs": [],
   "source": [
    "import pickle \n",
    "with open('glove_vectors', 'rb') as f:\n",
    "    glove_vectors = pickle.load(f)\n",
    "    glove_words =  set(glove_vectors.keys())"
   ]
  },
  {
   "cell_type": "code",
   "execution_count": 47,
   "metadata": {
    "executionInfo": {
     "elapsed": 635,
     "status": "ok",
     "timestamp": 1623994307824,
     "user": {
      "displayName": "Murtaza Mir",
      "photoUrl": "",
      "userId": "03139476773765529409"
     },
     "user_tz": -330
    },
    "id": "CuOO4ZxXk58Z"
   },
   "outputs": [],
   "source": [
    "vocab_size_1 = len(tokenizer_q1.word_index)\n",
    "embedding_matrix_1 = np.zeros((vocab_size_1+1, 300))\n",
    "\n",
    "for word, index in tokenizer_q1.word_index.items():\n",
    "  embedding_vector = glove_vectors.get(word)\n",
    "  if embedding_vector is not None:\n",
    "    embedding_matrix_1[index] = embedding_vector"
   ]
  },
  {
   "cell_type": "code",
   "execution_count": 51,
   "metadata": {
    "executionInfo": {
     "elapsed": 365,
     "status": "ok",
     "timestamp": 1623995083543,
     "user": {
      "displayName": "Murtaza Mir",
      "photoUrl": "",
      "userId": "03139476773765529409"
     },
     "user_tz": -330
    },
    "id": "Huz0bUnipb-Q"
   },
   "outputs": [],
   "source": [
    "vocab_size_2 = len(tokenizer_q2.word_index)\n",
    "embedding_matrix_2 = np.zeros((vocab_size_2+1, 300))\n",
    "\n",
    "for word, index in tokenizer_q2.word_index.items():\n",
    "  embedding_vector = glove_vectors.get(word)\n",
    "  if embedding_vector is not None:\n",
    "    embedding_matrix_2[index] = embedding_vector"
   ]
  },
  {
   "cell_type": "code",
   "execution_count": 53,
   "metadata": {
    "executionInfo": {
     "elapsed": 1106,
     "status": "ok",
     "timestamp": 1623995118068,
     "user": {
      "displayName": "Murtaza Mir",
      "photoUrl": "",
      "userId": "03139476773765529409"
     },
     "user_tz": -330
    },
    "id": "jSictzlQmiei"
   },
   "outputs": [],
   "source": [
    "input_1 = Input(shape = (33,))\n",
    "embedding_1 = Embedding(input_dim = len(tokenizer_q1.word_index.items())+1, output_dim = 300, weights = [embedding_matrix_1])(input_1)\n",
    "lstm_1 = LSTM(32)(embedding_1)\n",
    "flatten_1 = Flatten()(lstm_1)\n",
    "\n",
    "input_2 = Input(shape = (33,))\n",
    "embedding_2 = Embedding(input_dim = len(tokenizer_q2.word_index.items())+1, output_dim = 300, weights = [embedding_matrix_2])(input_2)\n",
    "lstm_2 = LSTM(32)(embedding_2)\n",
    "flatten_2 = Flatten()(lstm_2)\n",
    "\n",
    "concatenate_layer = concatenate([flatten_1, flatten_2])\n",
    "dense_1 = Dense(32, activation = 'relu')(concatenate_layer)\n",
    "dense_2 = Dense(1, activation = 'sigmoid')(dense_1)\n",
    "\n",
    "model_3 = Model(inputs = [input_1, input_2], outputs = dense_2)"
   ]
  },
  {
   "cell_type": "code",
   "execution_count": 54,
   "metadata": {
    "colab": {
     "base_uri": "https://localhost:8080/"
    },
    "executionInfo": {
     "elapsed": 366,
     "status": "ok",
     "timestamp": 1623995124450,
     "user": {
      "displayName": "Murtaza Mir",
      "photoUrl": "",
      "userId": "03139476773765529409"
     },
     "user_tz": -330
    },
    "id": "ed1j68_LnBRW",
    "outputId": "3a9d4d72-d658-471e-8374-4a30fbca5736"
   },
   "outputs": [
    {
     "name": "stdout",
     "output_type": "stream",
     "text": [
      "Model: \"model_2\"\n",
      "__________________________________________________________________________________________________\n",
      "Layer (type)                    Output Shape         Param #     Connected to                     \n",
      "==================================================================================================\n",
      "Total params: 38,623,261\n",
      "Trainable params: 38,623,261\n",
      "Non-trainable params: 0\n",
      "__________________________________________________________________________________________________\n"
     ]
    }
   ],
   "source": [
    "model_3.summary()"
   ]
  },
  {
   "cell_type": "code",
   "execution_count": 56,
   "metadata": {
    "colab": {
     "base_uri": "https://localhost:8080/"
    },
    "executionInfo": {
     "elapsed": 15163753,
     "status": "ok",
     "timestamp": 1624010379616,
     "user": {
      "displayName": "Murtaza Mir",
      "photoUrl": "",
      "userId": "03139476773765529409"
     },
     "user_tz": -330
    },
    "id": "f4dT19uYpwPq",
    "outputId": "fcb6e00e-095e-4b0b-889d-8077425e5936"
   },
   "outputs": [
    {
     "name": "stdout",
     "output_type": "stream",
     "text": [
      "Epoch 1/10\n",
      "3235/3235 [==============================] - 1528s 471ms/step - loss: 0.5432 - accuracy: 0.7228 - val_loss: 0.4761 - val_accuracy: 0.7716\n",
      "Epoch 2/10\n",
      "3235/3235 [==============================] - 1515s 468ms/step - loss: 0.4245 - accuracy: 0.8013 - val_loss: 0.4610 - val_accuracy: 0.7831\n",
      "Epoch 3/10\n",
      "3235/3235 [==============================] - 1524s 471ms/step - loss: 0.3541 - accuracy: 0.8369 - val_loss: 0.4755 - val_accuracy: 0.7766\n",
      "Epoch 4/10\n",
      "3235/3235 [==============================] - 1522s 471ms/step - loss: 0.2924 - accuracy: 0.8669 - val_loss: 0.4906 - val_accuracy: 0.7866\n",
      "Epoch 5/10\n",
      "3235/3235 [==============================] - 1518s 469ms/step - loss: 0.2409 - accuracy: 0.8927 - val_loss: 0.5460 - val_accuracy: 0.7729\n",
      "Epoch 6/10\n",
      "3235/3235 [==============================] - 1529s 473ms/step - loss: 0.1962 - accuracy: 0.9154 - val_loss: 0.5998 - val_accuracy: 0.7738\n",
      "Epoch 7/10\n",
      "3235/3235 [==============================] - 1524s 471ms/step - loss: 0.1602 - accuracy: 0.9321 - val_loss: 0.6502 - val_accuracy: 0.7712\n",
      "Epoch 8/10\n",
      "3235/3235 [==============================] - 1519s 470ms/step - loss: 0.1321 - accuracy: 0.9454 - val_loss: 0.7208 - val_accuracy: 0.7728\n",
      "Epoch 9/10\n",
      "3235/3235 [==============================] - 1492s 461ms/step - loss: 0.1115 - accuracy: 0.9551 - val_loss: 0.8074 - val_accuracy: 0.7754\n",
      "Epoch 10/10\n",
      "3235/3235 [==============================] - 1491s 461ms/step - loss: 0.0925 - accuracy: 0.9628 - val_loss: 0.8656 - val_accuracy: 0.7739\n"
     ]
    }
   ],
   "source": [
    "model_3.compile(optimizer = 'adam', loss = 'binary_crossentropy', metrics = 'accuracy')\n",
    "performance = model_3.fit(x = [pad_q1_train, pad_q2_train], y = y_train, batch_size = 100, epochs = 10, \n",
    "                          validation_data = ([pad_q1_test, pad_q2_test], y_test))"
   ]
  },
  {
   "cell_type": "code",
   "execution_count": 57,
   "metadata": {
    "colab": {
     "base_uri": "https://localhost:8080/",
     "height": 350
    },
    "executionInfo": {
     "elapsed": 1863,
     "status": "ok",
     "timestamp": 1624010384850,
     "user": {
      "displayName": "Murtaza Mir",
      "photoUrl": "",
      "userId": "03139476773765529409"
     },
     "user_tz": -330
    },
    "id": "84SOSGqXj8bx",
    "outputId": "7a34caa6-4e64-4d0b-bde9-246824ab06a2"
   },
   "outputs": [
    {
     "data": {
      "image/png": "[encoded data removed]",
      "text/plain": [
       "<Figure size 1080x360 with 2 Axes>"
      ]
     },
     "metadata": {
      "needs_background": "light",
      "tags": []
     },
     "output_type": "display_data"
    }
   ],
   "source": [
    "plt.figure(figsize = (15, 5))\n",
    "plt.subplot(121)\n",
    "sns.lineplot(x=range(1,11), y=performance.history['val_loss'])\n",
    "sns.lineplot(x=range(1,11), y=performance.history['loss'])\n",
    "plt.xlabel('Epoch')\n",
    "plt.ylabel('Loss')\n",
    "plt.ylim((0,1))\n",
    "plt.title('LOSS VS EPOCHS')\n",
    "plt.legend(['Validation', 'Train'])\n",
    "plt.subplot(122)\n",
    "sns.lineplot(x=range(1,11), y=performance.history['val_accuracy'])\n",
    "sns.lineplot(x=range(1,11), y=performance.history['accuracy'])\n",
    "plt.xlabel('Epoch')\n",
    "plt.ylabel('Accuracy')\n",
    "plt.ylim((0,1))\n",
    "plt.title('ACCURACY VS EPOCHS')\n",
    "plt.legend(['Validation', 'Train'])\n",
    "plt.show()"
   ]
  },
  {
   "cell_type": "markdown",
   "metadata": {
    "id": "R2L38VC3kGyl"
   },
   "source": [
    "- Similar performance to Model 2."
   ]
  },
  {
   "cell_type": "markdown",
   "metadata": {
    "id": "t6H7ODHbjK-4"
   },
   "source": [
    "Model 4 - *Combining both the question columns into one.*"
   ]
  },
  {
   "cell_type": "code",
   "execution_count": 33,
   "metadata": {
    "executionInfo": {
     "elapsed": 447,
     "status": "ok",
     "timestamp": 1624026763735,
     "user": {
      "displayName": "Murtaza Mir",
      "photoUrl": "",
      "userId": "03139476773765529409"
     },
     "user_tz": -330
    },
    "id": "hZbcm92Hp5MU"
   },
   "outputs": [],
   "source": [
    "questions_combined = data['question1'] + ' ' + data['question2']"
   ]
  },
  {
   "cell_type": "code",
   "execution_count": 34,
   "metadata": {
    "colab": {
     "base_uri": "https://localhost:8080/",
     "height": 203
    },
    "executionInfo": {
     "elapsed": 8,
     "status": "ok",
     "timestamp": 1624026765341,
     "user": {
      "displayName": "Murtaza Mir",
      "photoUrl": "",
      "userId": "03139476773765529409"
     },
     "user_tz": -330
    },
    "id": "Fx-nxyd7kLjR",
    "outputId": "86d37a80-9d03-4174-c109-5f02ec16566b"
   },
   "outputs": [
    {
     "data": {
      "text/html": [
       "<div>\n",
       "<style scoped>\n",
       "    .dataframe tbody tr th:only-of-type {\n",
       "        vertical-align: middle;\n",
       "    }\n",
       "\n",
       "    .dataframe tbody tr th {\n",
       "        vertical-align: top;\n",
       "    }\n",
       "\n",
       "    .dataframe thead th {\n",
       "        text-align: right;\n",
       "    }\n",
       "</style>\n",
       "<table border=\"1\" class=\"dataframe\">\n",
       "  <thead>\n",
       "    <tr style=\"text-align: right;\">\n",
       "      <th></th>\n",
       "      <th>questions12</th>\n",
       "      <th>is_duplicate</th>\n",
       "    </tr>\n",
       "  </thead>\n",
       "  <tbody>\n",
       "    <tr>\n",
       "      <th>0</th>\n",
       "      <td>What is the step by step guide to invest in sh...</td>\n",
       "      <td>0</td>\n",
       "    </tr>\n",
       "    <tr>\n",
       "      <th>1</th>\n",
       "      <td>What is the story of Kohinoor (Koh-i-Noor) Dia...</td>\n",
       "      <td>0</td>\n",
       "    </tr>\n",
       "    <tr>\n",
       "      <th>2</th>\n",
       "      <td>How can I increase the speed of my internet co...</td>\n",
       "      <td>0</td>\n",
       "    </tr>\n",
       "    <tr>\n",
       "      <th>3</th>\n",
       "      <td>Why am I mentally very lonely? How can I solve...</td>\n",
       "      <td>0</td>\n",
       "    </tr>\n",
       "    <tr>\n",
       "      <th>4</th>\n",
       "      <td>Which one dissolve in water quikly sugar, salt...</td>\n",
       "      <td>0</td>\n",
       "    </tr>\n",
       "  </tbody>\n",
       "</table>\n",
       "</div>"
      ],
      "text/plain": [
       "                                         questions12  is_duplicate\n",
       "0  What is the step by step guide to invest in sh...             0\n",
       "1  What is the story of Kohinoor (Koh-i-Noor) Dia...             0\n",
       "2  How can I increase the speed of my internet co...             0\n",
       "3  Why am I mentally very lonely? How can I solve...             0\n",
       "4  Which one dissolve in water quikly sugar, salt...             0"
      ]
     },
     "execution_count": 34,
     "metadata": {
      "tags": []
     },
     "output_type": "execute_result"
    }
   ],
   "source": [
    "new_df = pd.DataFrame(questions_combined, columns = ['questions12'])\n",
    "new_df['is_duplicate'] = data['is_duplicate']\n",
    "new_df.head()"
   ]
  },
  {
   "cell_type": "code",
   "execution_count": 35,
   "metadata": {
    "executionInfo": {
     "elapsed": 2,
     "status": "ok",
     "timestamp": 1624026767241,
     "user": {
      "displayName": "Murtaza Mir",
      "photoUrl": "",
      "userId": "03139476773765529409"
     },
     "user_tz": -330
    },
    "id": "d-Ergzx2ku3V"
   },
   "outputs": [],
   "source": [
    "X_train, X_test, y_train, y_test = train_test_split(new_df['questions12'], new_df['is_duplicate'], test_size = 0.2, random_state = 0)"
   ]
  },
  {
   "cell_type": "code",
   "execution_count": 36,
   "metadata": {
    "executionInfo": {
     "elapsed": 7769,
     "status": "ok",
     "timestamp": 1624026780248,
     "user": {
      "displayName": "Murtaza Mir",
      "photoUrl": "",
      "userId": "03139476773765529409"
     },
     "user_tz": -330
    },
    "id": "Ne_KD9Ezk8e7"
   },
   "outputs": [],
   "source": [
    "tokenizer_qs = Tokenizer()\n",
    "tokenizer_qs.fit_on_texts(X_train)"
   ]
  },
  {
   "cell_type": "code",
   "execution_count": 37,
   "metadata": {
    "executionInfo": {
     "elapsed": 8028,
     "status": "ok",
     "timestamp": 1624026788265,
     "user": {
      "displayName": "Murtaza Mir",
      "photoUrl": "",
      "userId": "03139476773765529409"
     },
     "user_tz": -330
    },
    "id": "jqNewkDxk-w2"
   },
   "outputs": [],
   "source": [
    "questions_tk_train = tokenizer_qs.texts_to_sequences(X_train)\n",
    "questions_tk_test = tokenizer_qs.texts_to_sequences(X_test)"
   ]
  },
  {
   "cell_type": "code",
   "execution_count": 38,
   "metadata": {
    "executionInfo": {
     "elapsed": 6,
     "status": "ok",
     "timestamp": 1624026788266,
     "user": {
      "displayName": "Murtaza Mir",
      "photoUrl": "",
      "userId": "03139476773765529409"
     },
     "user_tz": -330
    },
    "id": "0W1n9L0zlsOP"
   },
   "outputs": [],
   "source": [
    "len_tr = [len(i) for i in questions_tk_train]\n",
    "len_ts = [len(i) for i in questions_tk_test]"
   ]
  },
  {
   "cell_type": "code",
   "execution_count": 39,
   "metadata": {
    "colab": {
     "base_uri": "https://localhost:8080/",
     "height": 511
    },
    "executionInfo": {
     "elapsed": 705,
     "status": "ok",
     "timestamp": 1624026790864,
     "user": {
      "displayName": "Murtaza Mir",
      "photoUrl": "",
      "userId": "03139476773765529409"
     },
     "user_tz": -330
    },
    "id": "NSvAi9z9lwtq",
    "outputId": "49001e3a-6166-4319-f8de-1917cb37c216"
   },
   "outputs": [
    {
     "data": {
      "text/html": [
       "<div>\n",
       "<style scoped>\n",
       "    .dataframe tbody tr th:only-of-type {\n",
       "        vertical-align: middle;\n",
       "    }\n",
       "\n",
       "    .dataframe tbody tr th {\n",
       "        vertical-align: top;\n",
       "    }\n",
       "\n",
       "    .dataframe thead th {\n",
       "        text-align: right;\n",
       "    }\n",
       "</style>\n",
       "<table border=\"1\" class=\"dataframe\">\n",
       "  <thead>\n",
       "    <tr style=\"text-align: right;\">\n",
       "      <th></th>\n",
       "      <th>0</th>\n",
       "    </tr>\n",
       "  </thead>\n",
       "  <tbody>\n",
       "    <tr>\n",
       "      <th>count</th>\n",
       "      <td>323432.000000</td>\n",
       "    </tr>\n",
       "    <tr>\n",
       "      <th>mean</th>\n",
       "      <td>22.308661</td>\n",
       "    </tr>\n",
       "    <tr>\n",
       "      <th>std</th>\n",
       "      <td>10.207573</td>\n",
       "    </tr>\n",
       "    <tr>\n",
       "      <th>min</th>\n",
       "      <td>2.000000</td>\n",
       "    </tr>\n",
       "    <tr>\n",
       "      <th>0%</th>\n",
       "      <td>2.000000</td>\n",
       "    </tr>\n",
       "    <tr>\n",
       "      <th>25%</th>\n",
       "      <td>16.000000</td>\n",
       "    </tr>\n",
       "    <tr>\n",
       "      <th>50%</th>\n",
       "      <td>20.000000</td>\n",
       "    </tr>\n",
       "    <tr>\n",
       "      <th>75%</th>\n",
       "      <td>26.000000</td>\n",
       "    </tr>\n",
       "    <tr>\n",
       "      <th>90%</th>\n",
       "      <td>35.000000</td>\n",
       "    </tr>\n",
       "    <tr>\n",
       "      <th>95%</th>\n",
       "      <td>42.000000</td>\n",
       "    </tr>\n",
       "    <tr>\n",
       "      <th>96%</th>\n",
       "      <td>44.000000</td>\n",
       "    </tr>\n",
       "    <tr>\n",
       "      <th>97%</th>\n",
       "      <td>46.000000</td>\n",
       "    </tr>\n",
       "    <tr>\n",
       "      <th>98%</th>\n",
       "      <td>50.000000</td>\n",
       "    </tr>\n",
       "    <tr>\n",
       "      <th>99%</th>\n",
       "      <td>57.000000</td>\n",
       "    </tr>\n",
       "    <tr>\n",
       "      <th>max</th>\n",
       "      <td>269.000000</td>\n",
       "    </tr>\n",
       "  </tbody>\n",
       "</table>\n",
       "</div>"
      ],
      "text/plain": [
       "                   0\n",
       "count  323432.000000\n",
       "mean       22.308661\n",
       "std        10.207573\n",
       "min         2.000000\n",
       "0%          2.000000\n",
       "25%        16.000000\n",
       "50%        20.000000\n",
       "75%        26.000000\n",
       "90%        35.000000\n",
       "95%        42.000000\n",
       "96%        44.000000\n",
       "97%        46.000000\n",
       "98%        50.000000\n",
       "99%        57.000000\n",
       "max       269.000000"
      ]
     },
     "execution_count": 39,
     "metadata": {
      "tags": []
     },
     "output_type": "execute_result"
    }
   ],
   "source": [
    "pd.DataFrame(len_tr).describe(percentiles = [0, 0.25, 0.50, 0.75, 0.9, 0.95, 0.96, 0.97, 0.98, 0.99])"
   ]
  },
  {
   "cell_type": "code",
   "execution_count": 40,
   "metadata": {
    "colab": {
     "base_uri": "https://localhost:8080/",
     "height": 511
    },
    "executionInfo": {
     "elapsed": 689,
     "status": "ok",
     "timestamp": 1624026794235,
     "user": {
      "displayName": "Murtaza Mir",
      "photoUrl": "",
      "userId": "03139476773765529409"
     },
     "user_tz": -330
    },
    "id": "P9j2F3LEmNRD",
    "outputId": "37fb2a4e-570f-4f70-cc23-817064ae179a"
   },
   "outputs": [
    {
     "data": {
      "text/html": [
       "<div>\n",
       "<style scoped>\n",
       "    .dataframe tbody tr th:only-of-type {\n",
       "        vertical-align: middle;\n",
       "    }\n",
       "\n",
       "    .dataframe tbody tr th {\n",
       "        vertical-align: top;\n",
       "    }\n",
       "\n",
       "    .dataframe thead th {\n",
       "        text-align: right;\n",
       "    }\n",
       "</style>\n",
       "<table border=\"1\" class=\"dataframe\">\n",
       "  <thead>\n",
       "    <tr style=\"text-align: right;\">\n",
       "      <th></th>\n",
       "      <th>0</th>\n",
       "    </tr>\n",
       "  </thead>\n",
       "  <tbody>\n",
       "    <tr>\n",
       "      <th>count</th>\n",
       "      <td>80858.000000</td>\n",
       "    </tr>\n",
       "    <tr>\n",
       "      <th>mean</th>\n",
       "      <td>22.192956</td>\n",
       "    </tr>\n",
       "    <tr>\n",
       "      <th>std</th>\n",
       "      <td>10.141263</td>\n",
       "    </tr>\n",
       "    <tr>\n",
       "      <th>min</th>\n",
       "      <td>4.000000</td>\n",
       "    </tr>\n",
       "    <tr>\n",
       "      <th>0%</th>\n",
       "      <td>4.000000</td>\n",
       "    </tr>\n",
       "    <tr>\n",
       "      <th>25%</th>\n",
       "      <td>16.000000</td>\n",
       "    </tr>\n",
       "    <tr>\n",
       "      <th>50%</th>\n",
       "      <td>20.000000</td>\n",
       "    </tr>\n",
       "    <tr>\n",
       "      <th>75%</th>\n",
       "      <td>26.000000</td>\n",
       "    </tr>\n",
       "    <tr>\n",
       "      <th>90%</th>\n",
       "      <td>35.000000</td>\n",
       "    </tr>\n",
       "    <tr>\n",
       "      <th>95%</th>\n",
       "      <td>42.000000</td>\n",
       "    </tr>\n",
       "    <tr>\n",
       "      <th>96%</th>\n",
       "      <td>44.000000</td>\n",
       "    </tr>\n",
       "    <tr>\n",
       "      <th>97%</th>\n",
       "      <td>46.000000</td>\n",
       "    </tr>\n",
       "    <tr>\n",
       "      <th>98%</th>\n",
       "      <td>50.000000</td>\n",
       "    </tr>\n",
       "    <tr>\n",
       "      <th>99%</th>\n",
       "      <td>57.000000</td>\n",
       "    </tr>\n",
       "    <tr>\n",
       "      <th>max</th>\n",
       "      <td>270.000000</td>\n",
       "    </tr>\n",
       "  </tbody>\n",
       "</table>\n",
       "</div>"
      ],
      "text/plain": [
       "                  0\n",
       "count  80858.000000\n",
       "mean      22.192956\n",
       "std       10.141263\n",
       "min        4.000000\n",
       "0%         4.000000\n",
       "25%       16.000000\n",
       "50%       20.000000\n",
       "75%       26.000000\n",
       "90%       35.000000\n",
       "95%       42.000000\n",
       "96%       44.000000\n",
       "97%       46.000000\n",
       "98%       50.000000\n",
       "99%       57.000000\n",
       "max      270.000000"
      ]
     },
     "execution_count": 40,
     "metadata": {
      "tags": []
     },
     "output_type": "execute_result"
    }
   ],
   "source": [
    "pd.DataFrame(len_ts).describe(percentiles = [0, 0.25, 0.50, 0.75, 0.9, 0.95, 0.96, 0.97, 0.98, 0.99])"
   ]
  },
  {
   "cell_type": "markdown",
   "metadata": {
    "id": "M5SqiJ7dmUBv"
   },
   "source": [
    "- 99% of sentences have a length of 57 or less."
   ]
  },
  {
   "cell_type": "code",
   "execution_count": 41,
   "metadata": {
    "executionInfo": {
     "elapsed": 2402,
     "status": "ok",
     "timestamp": 1624026801543,
     "user": {
      "displayName": "Murtaza Mir",
      "photoUrl": "",
      "userId": "03139476773765529409"
     },
     "user_tz": -330
    },
    "id": "I8RuUAKomQg9"
   },
   "outputs": [],
   "source": [
    "padded_questions_tr = pad_sequences(questions_tk_train, maxlen = 57, padding = 'post')\n",
    "padded_questions_ts = pad_sequences(questions_tk_test, maxlen = 57, padding = 'post')"
   ]
  },
  {
   "cell_type": "code",
   "execution_count": 42,
   "metadata": {
    "executionInfo": {
     "elapsed": 744,
     "status": "ok",
     "timestamp": 1624026804041,
     "user": {
      "displayName": "Murtaza Mir",
      "photoUrl": "",
      "userId": "03139476773765529409"
     },
     "user_tz": -330
    },
    "id": "vpLWZf8lm8UP"
   },
   "outputs": [],
   "source": [
    "vocab_size_12 = len(tokenizer_qs.word_index)\n",
    "embedding_matrix_12 = np.zeros((vocab_size_12+1, 300))\n",
    "\n",
    "for word, index in tokenizer_qs.word_index.items():\n",
    "  embedding_vector = glove_vectors.get(word)\n",
    "  if embedding_vector is not None:\n",
    "    embedding_matrix_12[index] = embedding_vector"
   ]
  },
  {
   "cell_type": "code",
   "execution_count": 48,
   "metadata": {
    "executionInfo": {
     "elapsed": 1148,
     "status": "ok",
     "timestamp": 1624026845146,
     "user": {
      "displayName": "Murtaza Mir",
      "photoUrl": "",
      "userId": "03139476773765529409"
     },
     "user_tz": -330
    },
    "id": "1EeDTh_YnciS"
   },
   "outputs": [],
   "source": [
    "input_layer = Input(shape = (57,))\n",
    "embedding_layer = Embedding(input_dim = vocab_size_12+1, output_dim = 300, weights = [embedding_matrix_12])(input_layer)\n",
    "lstm_1 = LSTM(100, return_sequences = True)(embedding_layer)\n",
    "flatten_layer = Flatten()(lstm_1)\n",
    "dense_1 = Dense(32, activation = 'relu')(flatten_layer)\n",
    "dense_2 = Dense(16, activation = 'relu')(dense_1)\n",
    "output_layer = Dense(1, activation = 'sigmoid')(dense_2)\n",
    "\n",
    "model_4 = Model(inputs = [input_layer], outputs = [output_layer])"
   ]
  },
  {
   "cell_type": "code",
   "execution_count": 49,
   "metadata": {
    "colab": {
     "base_uri": "https://localhost:8080/"
    },
    "executionInfo": {
     "elapsed": 4,
     "status": "ok",
     "timestamp": 1624026847820,
     "user": {
      "displayName": "Murtaza Mir",
      "photoUrl": "",
      "userId": "03139476773765529409"
     },
     "user_tz": -330
    },
    "id": "lzZE3_rwoTkX",
    "outputId": "e9126064-6816-4f7d-d05e-550dfb1099d5"
   },
   "outputs": [
    {
     "name": "stdout",
     "output_type": "stream",
     "text": [
      "Model: \"model_5\"\n",
      "_________________________________________________________________\n",
      "Layer (type)                 Output Shape              Param #   \n",
      "=================================================================\n",
      "Total params: 26,222,277\n",
      "Trainable params: 26,222,277\n",
      "Non-trainable params: 0\n",
      "_________________________________________________________________\n"
     ]
    }
   ],
   "source": [
    "model_4.summary()"
   ]
  },
  {
   "cell_type": "code",
   "execution_count": 50,
   "metadata": {
    "colab": {
     "base_uri": "https://localhost:8080/"
    },
    "executionInfo": {
     "elapsed": 12981014,
     "status": "ok",
     "timestamp": 1624039837837,
     "user": {
      "displayName": "Murtaza Mir",
      "photoUrl": "",
      "userId": "03139476773765529409"
     },
     "user_tz": -330
    },
    "id": "_P9jzbwpoYSO",
    "outputId": "66d2c60d-e692-47ef-aaac-bb26e2370705"
   },
   "outputs": [
    {
     "name": "stdout",
     "output_type": "stream",
     "text": [
      "Epoch 1/10\n",
      "3235/3235 [==============================] - 1344s 412ms/step - loss: 0.5339 - accuracy: 0.7295 - val_loss: 0.4643 - val_accuracy: 0.7776\n",
      "Epoch 2/10\n",
      "3235/3235 [==============================] - 1320s 408ms/step - loss: 0.4023 - accuracy: 0.8115 - val_loss: 0.4460 - val_accuracy: 0.7892\n",
      "Epoch 3/10\n",
      "3235/3235 [==============================] - 1314s 406ms/step - loss: 0.2977 - accuracy: 0.8652 - val_loss: 0.4717 - val_accuracy: 0.7937\n",
      "Epoch 4/10\n",
      "3235/3235 [==============================] - 1301s 402ms/step - loss: 0.2103 - accuracy: 0.9092 - val_loss: 0.5497 - val_accuracy: 0.7925\n",
      "Epoch 5/10\n",
      "3235/3235 [==============================] - 1301s 402ms/step - loss: 0.1462 - accuracy: 0.9391 - val_loss: 0.6564 - val_accuracy: 0.7910\n",
      "Epoch 6/10\n",
      "3235/3235 [==============================] - 1284s 397ms/step - loss: 0.1007 - accuracy: 0.9593 - val_loss: 0.8391 - val_accuracy: 0.7897\n",
      "Epoch 7/10\n",
      "3235/3235 [==============================] - 1279s 395ms/step - loss: 0.0710 - accuracy: 0.9723 - val_loss: 0.9893 - val_accuracy: 0.7832\n",
      "Epoch 8/10\n",
      "3235/3235 [==============================] - 1277s 395ms/step - loss: 0.0527 - accuracy: 0.9800 - val_loss: 1.0691 - val_accuracy: 0.7834\n",
      "Epoch 9/10\n",
      "3235/3235 [==============================] - 1281s 396ms/step - loss: 0.0403 - accuracy: 0.9848 - val_loss: 1.2923 - val_accuracy: 0.7890\n",
      "Epoch 10/10\n",
      "3235/3235 [==============================] - 1279s 395ms/step - loss: 0.0314 - accuracy: 0.9886 - val_loss: 1.3886 - val_accuracy: 0.7823\n"
     ]
    }
   ],
   "source": [
    "model_4.compile(optimizer = 'adam', loss = 'binary_crossentropy', metrics = 'accuracy')\n",
    "performance = model_4.fit(x = padded_questions_tr, y = y_train, batch_size = 100, epochs = 10, \n",
    "                          validation_data = (padded_questions_ts, y_test))"
   ]
  },
  {
   "cell_type": "code",
   "execution_count": 9,
   "metadata": {
    "colab": {
     "base_uri": "https://localhost:8080/",
     "height": 350
    },
    "executionInfo": {
     "elapsed": 1341,
     "status": "ok",
     "timestamp": 1624074984974,
     "user": {
      "displayName": "Murtaza Mir",
      "photoUrl": "",
      "userId": "03139476773765529409"
     },
     "user_tz": -330
    },
    "id": "01yMrw8joqKn",
    "outputId": "ef94e43e-20af-415f-9c33-23b207dbf21e"
   },
   "outputs": [
    {
     "data": {
      "image/png": "[encoded data removed]",
      "text/plain": [
       "<Figure size 1080x360 with 2 Axes>"
      ]
     },
     "metadata": {
      "needs_background": "light",
      "tags": []
     },
     "output_type": "display_data"
    }
   ],
   "source": [
    "loss = [0.5339, 0.4023, 0.2977, 0.2103, 0.1462, 0.1007, 0.0710, 0.0527, 0.0403, 0.0314]\n",
    "accuracy = [0.7295, 0.8115, 0.8652, 0.9092, 0.9391, 0.9593, 0.9723, 0.9800, 0.9848, 0.9886]\n",
    "val_loss = [0.4643, 0.4460, 0.4717, 0.5497, 0.6564, 0.8391, 0.9893, 1.0691, 1.2923, 1.3886]\n",
    "val_accuracy = [0.7776, 0.7892, 0.7937, 0.7925, 0.7910, 0.7897, 0.7832, 0.7834, 0.7890, 0.7823]\n",
    "\n",
    "plt.figure(figsize = (15, 5))\n",
    "plt.subplot(121)\n",
    "sns.lineplot(x = range(1, 11), y = loss)\n",
    "sns.lineplot(x = range(1, 11), y = val_loss)\n",
    "plt.legend(['Train', 'Validation'])\n",
    "plt.xlabel('Epoch')\n",
    "plt.ylabel('Loss')\n",
    "plt.title('LOSS VS EPOCH')\n",
    "plt.subplot(122)\n",
    "sns.lineplot(x = range(1, 11), y = accuracy)\n",
    "sns.lineplot(x = range(1, 11), y = val_accuracy)\n",
    "plt.legend(['Train', 'Validation'])\n",
    "plt.xlabel('Epoch')\n",
    "plt.ylabel('Accuracy')\n",
    "plt.title('ACCURACY VS EPOCH')\n",
    "plt.show()"
   ]
  },
  {
   "cell_type": "markdown",
   "metadata": {
    "id": "Z4shF9J_ackd"
   },
   "source": [
    "## CONCLUSION\n",
    "- Using glove vectors as word embeddings clearly boosted the performance in comparison to Model 1. \n",
    "- However, same is not the case when compared with Model 2 which didn't have the glove vector representation.\n",
    "- Model 2 performed almost equally with Model 3 and Model 4."
   ]
  },
  {
   "cell_type": "code",
   "execution_count": null,
   "metadata": {
    "id": "L2PZySecZh_J"
   },
   "outputs": [],
   "source": []
  }
 ],
 "metadata": {
  "colab": {
   "authorship_tag": "ABX9TyNoY7exF7u7iikmYuHgwh9O",
   "collapsed_sections": [],
   "name": "Quora_similarity_question_pair.ipynb",
   "provenance": []
  },
  "kernelspec": {
   "display_name": "Python 3 (ipykernel)",
   "language": "python",
   "name": "python3"
  },
  "language_info": {
   "codemirror_mode": {
    "name": "ipython",
    "version": 3
   },
   "file_extension": ".py",
   "mimetype": "text/x-python",
   "name": "python",
   "nbconvert_exporter": "python",
   "pygments_lexer": "ipython3",
   "version": "3.9.7"
  }
 },
 "nbformat": 4,
 "nbformat_minor": 1
}
